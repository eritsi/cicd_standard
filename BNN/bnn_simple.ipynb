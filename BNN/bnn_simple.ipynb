{
 "cells": [
  {
   "cell_type": "code",
   "execution_count": 1,
   "id": "05ebd03d",
   "metadata": {
    "scrolled": true
   },
   "outputs": [
    {
     "name": "stdout",
     "output_type": "stream",
     "text": [
      "Collecting tensorflow\n",
      "  Downloading tensorflow-2.9.1-cp38-cp38-manylinux_2_17_x86_64.manylinux2014_x86_64.whl (511.7 MB)\n",
      "\u001b[2K     \u001b[90m━━━━━━━━━━━━━━━━━━━━━━━━━━━━━━━━━━━━━━━\u001b[0m \u001b[32m511.7/511.7 MB\u001b[0m \u001b[31m4.5 MB/s\u001b[0m eta \u001b[36m0:00:00\u001b[0m00:01\u001b[0m00:01\u001b[0m\n",
      "\u001b[?25hCollecting absl-py>=1.0.0\n",
      "  Downloading absl_py-1.1.0-py3-none-any.whl (123 kB)\n",
      "\u001b[2K     \u001b[90m━━━━━━━━━━━━━━━━━━━━━━━━━━━━━━━━━━━━━━\u001b[0m \u001b[32m123.7/123.7 kB\u001b[0m \u001b[31m51.5 MB/s\u001b[0m eta \u001b[36m0:00:00\u001b[0m\n",
      "\u001b[?25hCollecting keras<2.10.0,>=2.9.0rc0\n",
      "  Downloading keras-2.9.0-py2.py3-none-any.whl (1.6 MB)\n",
      "\u001b[2K     \u001b[90m━━━━━━━━━━━━━━━━━━━━━━━━━━━━━━━━━━━━━━━━\u001b[0m \u001b[32m1.6/1.6 MB\u001b[0m \u001b[31m169.3 MB/s\u001b[0m eta \u001b[36m0:00:00\u001b[0m\n",
      "\u001b[?25hCollecting tensorflow-io-gcs-filesystem>=0.23.1\n",
      "  Downloading tensorflow_io_gcs_filesystem-0.26.0-cp38-cp38-manylinux_2_12_x86_64.manylinux2010_x86_64.whl (2.4 MB)\n",
      "\u001b[2K     \u001b[90m━━━━━━━━━━━━━━━━━━━━━━━━━━━━━━━━━━━━━━━━\u001b[0m \u001b[32m2.4/2.4 MB\u001b[0m \u001b[31m166.5 MB/s\u001b[0m eta \u001b[36m0:00:00\u001b[0m\n",
      "\u001b[?25hCollecting google-pasta>=0.1.1\n",
      "  Downloading google_pasta-0.2.0-py3-none-any.whl (57 kB)\n",
      "\u001b[2K     \u001b[90m━━━━━━━━━━━━━━━━━━━━━━━━━━━━━━━━━━━━━━━━\u001b[0m \u001b[32m57.5/57.5 kB\u001b[0m \u001b[31m27.3 MB/s\u001b[0m eta \u001b[36m0:00:00\u001b[0m\n",
      "\u001b[?25hCollecting h5py>=2.9.0\n",
      "  Downloading h5py-3.7.0-cp38-cp38-manylinux_2_12_x86_64.manylinux2010_x86_64.whl (4.5 MB)\n",
      "\u001b[2K     \u001b[90m━━━━━━━━━━━━━━━━━━━━━━━━━━━━━━━━━━━━━━━━\u001b[0m \u001b[32m4.5/4.5 MB\u001b[0m \u001b[31m174.2 MB/s\u001b[0m eta \u001b[36m0:00:00\u001b[0m\n",
      "\u001b[?25hCollecting astunparse>=1.6.0\n",
      "  Downloading astunparse-1.6.3-py2.py3-none-any.whl (12 kB)\n",
      "Collecting opt-einsum>=2.3.2\n",
      "  Downloading opt_einsum-3.3.0-py3-none-any.whl (65 kB)\n",
      "\u001b[2K     \u001b[90m━━━━━━━━━━━━━━━━━━━━━━━━━━━━━━━━━━━━━━━━\u001b[0m \u001b[32m65.5/65.5 kB\u001b[0m \u001b[31m35.0 MB/s\u001b[0m eta \u001b[36m0:00:00\u001b[0m\n",
      "\u001b[?25hRequirement already satisfied: wrapt>=1.11.0 in /home/gitpod/.pyenv/versions/3.8.13/lib/python3.8/site-packages (from tensorflow) (1.14.1)\n",
      "Requirement already satisfied: grpcio<2.0,>=1.24.3 in /home/gitpod/.pyenv/versions/3.8.13/lib/python3.8/site-packages (from tensorflow) (1.46.3)\n",
      "Collecting flatbuffers<2,>=1.12\n",
      "  Downloading flatbuffers-1.12-py2.py3-none-any.whl (15 kB)\n",
      "Requirement already satisfied: typing-extensions>=3.6.6 in /home/gitpod/.pyenv/versions/3.8.13/lib/python3.8/site-packages (from tensorflow) (4.2.0)\n",
      "Collecting gast<=0.4.0,>=0.2.1\n",
      "  Downloading gast-0.4.0-py3-none-any.whl (9.8 kB)\n",
      "Requirement already satisfied: six>=1.12.0 in /home/gitpod/.pyenv/versions/3.8.13/lib/python3.8/site-packages (from tensorflow) (1.16.0)\n",
      "Requirement already satisfied: setuptools in /home/gitpod/.pyenv/versions/3.8.13/lib/python3.8/site-packages (from tensorflow) (62.3.2)\n",
      "Requirement already satisfied: packaging in /home/gitpod/.pyenv/versions/3.8.13/lib/python3.8/site-packages (from tensorflow) (21.3)\n",
      "Collecting keras-preprocessing>=1.1.1\n",
      "  Downloading Keras_Preprocessing-1.1.2-py2.py3-none-any.whl (42 kB)\n",
      "\u001b[2K     \u001b[90m━━━━━━━━━━━━━━━━━━━━━━━━━━━━━━━━━━━━━━━━\u001b[0m \u001b[32m42.6/42.6 kB\u001b[0m \u001b[31m23.7 MB/s\u001b[0m eta \u001b[36m0:00:00\u001b[0m\n",
      "\u001b[?25hCollecting termcolor>=1.1.0\n",
      "  Downloading termcolor-1.1.0.tar.gz (3.9 kB)\n",
      "  Preparing metadata (setup.py) ... \u001b[?25ldone\n",
      "\u001b[?25hCollecting tensorboard<2.10,>=2.9\n",
      "  Downloading tensorboard-2.9.1-py3-none-any.whl (5.8 MB)\n",
      "\u001b[2K     \u001b[90m━━━━━━━━━━━━━━━━━━━━━━━━━━━━━━━━━━━━━━━━\u001b[0m \u001b[32m5.8/5.8 MB\u001b[0m \u001b[31m148.2 MB/s\u001b[0m eta \u001b[36m0:00:00\u001b[0m00:01\u001b[0m\n",
      "\u001b[?25hCollecting protobuf<3.20,>=3.9.2\n",
      "  Downloading protobuf-3.19.4-cp38-cp38-manylinux_2_17_x86_64.manylinux2014_x86_64.whl (1.1 MB)\n",
      "\u001b[2K     \u001b[90m━━━━━━━━━━━━━━━━━━━━━━━━━━━━━━━━━━━━━━━━\u001b[0m \u001b[32m1.1/1.1 MB\u001b[0m \u001b[31m171.5 MB/s\u001b[0m eta \u001b[36m0:00:00\u001b[0m\n",
      "\u001b[?25hCollecting libclang>=13.0.0\n",
      "  Downloading libclang-14.0.1-py2.py3-none-manylinux1_x86_64.whl (14.5 MB)\n",
      "\u001b[2K     \u001b[90m━━━━━━━━━━━━━━━━━━━━━━━━━━━━━━━━━━━━━━━\u001b[0m \u001b[32m14.5/14.5 MB\u001b[0m \u001b[31m169.2 MB/s\u001b[0m eta \u001b[36m0:00:00\u001b[0m00:01\u001b[0m00:01\u001b[0m\n",
      "\u001b[?25hRequirement already satisfied: numpy>=1.20 in /home/gitpod/.pyenv/versions/3.8.13/lib/python3.8/site-packages (from tensorflow) (1.22.4)\n",
      "Collecting tensorflow-estimator<2.10.0,>=2.9.0rc0\n",
      "  Downloading tensorflow_estimator-2.9.0-py2.py3-none-any.whl (438 kB)\n",
      "\u001b[2K     \u001b[90m━━━━━━━━━━━━━━━━━━━━━━━━━━━━━━━━━━━━━\u001b[0m \u001b[32m438.7/438.7 kB\u001b[0m \u001b[31m131.8 MB/s\u001b[0m eta \u001b[36m0:00:00\u001b[0m\n",
      "\u001b[?25hRequirement already satisfied: wheel<1.0,>=0.23.0 in /home/gitpod/.pyenv/versions/3.8.13/lib/python3.8/site-packages (from astunparse>=1.6.0->tensorflow) (0.37.1)\n",
      "Collecting tensorboard-plugin-wit>=1.6.0\n",
      "  Downloading tensorboard_plugin_wit-1.8.1-py3-none-any.whl (781 kB)\n",
      "\u001b[2K     \u001b[90m━━━━━━━━━━━━━━━━━━━━━━━━━━━━━━━━━━━━━\u001b[0m \u001b[32m781.3/781.3 kB\u001b[0m \u001b[31m155.7 MB/s\u001b[0m eta \u001b[36m0:00:00\u001b[0m\n",
      "\u001b[?25hCollecting markdown>=2.6.8\n",
      "  Downloading Markdown-3.3.7-py3-none-any.whl (97 kB)\n",
      "\u001b[2K     \u001b[90m━━━━━━━━━━━━━━━━━━━━━━━━━━━━━━━━━━━━━━━━\u001b[0m \u001b[32m97.8/97.8 kB\u001b[0m \u001b[31m51.1 MB/s\u001b[0m eta \u001b[36m0:00:00\u001b[0m\n",
      "\u001b[?25hRequirement already satisfied: requests<3,>=2.21.0 in /home/gitpod/.pyenv/versions/3.8.13/lib/python3.8/site-packages (from tensorboard<2.10,>=2.9->tensorflow) (2.27.1)\n",
      "Collecting tensorboard-data-server<0.7.0,>=0.6.0\n",
      "  Downloading tensorboard_data_server-0.6.1-py3-none-manylinux2010_x86_64.whl (4.9 MB)\n",
      "\u001b[2K     \u001b[90m━━━━━━━━━━━━━━━━━━━━━━━━━━━━━━━━━━━━━━━━\u001b[0m \u001b[32m4.9/4.9 MB\u001b[0m \u001b[31m186.3 MB/s\u001b[0m eta \u001b[36m0:00:00\u001b[0m\n",
      "\u001b[?25hRequirement already satisfied: google-auth<3,>=1.6.3 in /home/gitpod/.pyenv/versions/3.8.13/lib/python3.8/site-packages (from tensorboard<2.10,>=2.9->tensorflow) (2.8.0)\n",
      "Collecting google-auth-oauthlib<0.5,>=0.4.1\n",
      "  Downloading google_auth_oauthlib-0.4.6-py2.py3-none-any.whl (18 kB)\n",
      "Collecting werkzeug>=1.0.1\n",
      "  Downloading Werkzeug-2.1.2-py3-none-any.whl (224 kB)\n",
      "\u001b[2K     \u001b[90m━━━━━━━━━━━━━━━━━━━━━━━━━━━━━━━━━━━━━━\u001b[0m \u001b[32m224.9/224.9 kB\u001b[0m \u001b[31m95.5 MB/s\u001b[0m eta \u001b[36m0:00:00\u001b[0m\n",
      "\u001b[?25hRequirement already satisfied: pyparsing!=3.0.5,>=2.0.2 in /home/gitpod/.pyenv/versions/3.8.13/lib/python3.8/site-packages (from packaging->tensorflow) (3.0.9)\n",
      "Requirement already satisfied: pyasn1-modules>=0.2.1 in /home/gitpod/.pyenv/versions/3.8.13/lib/python3.8/site-packages (from google-auth<3,>=1.6.3->tensorboard<2.10,>=2.9->tensorflow) (0.2.8)\n",
      "Requirement already satisfied: rsa<5,>=3.1.4 in /home/gitpod/.pyenv/versions/3.8.13/lib/python3.8/site-packages (from google-auth<3,>=1.6.3->tensorboard<2.10,>=2.9->tensorflow) (4.8)\n",
      "Requirement already satisfied: cachetools<6.0,>=2.0.0 in /home/gitpod/.pyenv/versions/3.8.13/lib/python3.8/site-packages (from google-auth<3,>=1.6.3->tensorboard<2.10,>=2.9->tensorflow) (5.2.0)\n",
      "Requirement already satisfied: requests-oauthlib>=0.7.0 in /home/gitpod/.pyenv/versions/3.8.13/lib/python3.8/site-packages (from google-auth-oauthlib<0.5,>=0.4.1->tensorboard<2.10,>=2.9->tensorflow) (1.3.1)\n",
      "Requirement already satisfied: importlib-metadata>=4.4 in /home/gitpod/.pyenv/versions/3.8.13/lib/python3.8/site-packages (from markdown>=2.6.8->tensorboard<2.10,>=2.9->tensorflow) (4.11.3)\n",
      "Requirement already satisfied: urllib3<1.27,>=1.21.1 in /home/gitpod/.pyenv/versions/3.8.13/lib/python3.8/site-packages (from requests<3,>=2.21.0->tensorboard<2.10,>=2.9->tensorflow) (1.26.9)\n",
      "Requirement already satisfied: idna<4,>=2.5 in /home/gitpod/.pyenv/versions/3.8.13/lib/python3.8/site-packages (from requests<3,>=2.21.0->tensorboard<2.10,>=2.9->tensorflow) (3.3)\n",
      "Requirement already satisfied: certifi>=2017.4.17 in /home/gitpod/.pyenv/versions/3.8.13/lib/python3.8/site-packages (from requests<3,>=2.21.0->tensorboard<2.10,>=2.9->tensorflow) (2022.5.18.1)\n",
      "Requirement already satisfied: charset-normalizer~=2.0.0 in /home/gitpod/.pyenv/versions/3.8.13/lib/python3.8/site-packages (from requests<3,>=2.21.0->tensorboard<2.10,>=2.9->tensorflow) (2.0.12)\n",
      "Requirement already satisfied: zipp>=0.5 in /home/gitpod/.pyenv/versions/3.8.13/lib/python3.8/site-packages (from importlib-metadata>=4.4->markdown>=2.6.8->tensorboard<2.10,>=2.9->tensorflow) (3.8.0)\n",
      "Requirement already satisfied: pyasn1<0.5.0,>=0.4.6 in /home/gitpod/.pyenv/versions/3.8.13/lib/python3.8/site-packages (from pyasn1-modules>=0.2.1->google-auth<3,>=1.6.3->tensorboard<2.10,>=2.9->tensorflow) (0.4.8)\n",
      "Requirement already satisfied: oauthlib>=3.0.0 in /home/gitpod/.pyenv/versions/3.8.13/lib/python3.8/site-packages (from requests-oauthlib>=0.7.0->google-auth-oauthlib<0.5,>=0.4.1->tensorboard<2.10,>=2.9->tensorflow) (3.2.0)\n"
     ]
    },
    {
     "name": "stdout",
     "output_type": "stream",
     "text": [
      "Building wheels for collected packages: termcolor\n",
      "  Building wheel for termcolor (setup.py) ... \u001b[?25ldone\n",
      "\u001b[?25h  Created wheel for termcolor: filename=termcolor-1.1.0-py3-none-any.whl size=4832 sha256=b4ae3cc3267d61b00b1291609e236bb91623fc4aec8a4995005152534f75343e\n",
      "  Stored in directory: /home/gitpod/.cache/pip/wheels/a0/16/9c/5473df82468f958445479c59e784896fa24f4a5fc024b0f501\n",
      "Successfully built termcolor\n",
      "Installing collected packages: termcolor, tensorboard-plugin-wit, libclang, keras, flatbuffers, werkzeug, tensorflow-io-gcs-filesystem, tensorflow-estimator, tensorboard-data-server, protobuf, opt-einsum, keras-preprocessing, h5py, google-pasta, gast, astunparse, absl-py, markdown, google-auth-oauthlib, tensorboard, tensorflow\n",
      "  Attempting uninstall: protobuf\n",
      "    Found existing installation: protobuf 3.20.1\n",
      "    Uninstalling protobuf-3.20.1:\n",
      "      Successfully uninstalled protobuf-3.20.1\n",
      "  Attempting uninstall: google-auth-oauthlib\n",
      "    Found existing installation: google-auth-oauthlib 0.5.2\n",
      "    Uninstalling google-auth-oauthlib-0.5.2:\n",
      "      Successfully uninstalled google-auth-oauthlib-0.5.2\n",
      "Successfully installed absl-py-1.1.0 astunparse-1.6.3 flatbuffers-1.12 gast-0.4.0 google-auth-oauthlib-0.4.6 google-pasta-0.2.0 h5py-3.7.0 keras-2.9.0 keras-preprocessing-1.1.2 libclang-14.0.1 markdown-3.3.7 opt-einsum-3.3.0 protobuf-3.19.4 tensorboard-2.9.1 tensorboard-data-server-0.6.1 tensorboard-plugin-wit-1.8.1 tensorflow-2.9.1 tensorflow-estimator-2.9.0 tensorflow-io-gcs-filesystem-0.26.0 termcolor-1.1.0 werkzeug-2.1.2\n",
      "\u001b[33mWARNING: There was an error checking the latest version of pip.\u001b[0m\u001b[33m\n",
      "\u001b[0m"
     ]
    }
   ],
   "source": [
    "! pip install tensorflow"
   ]
  },
  {
   "cell_type": "code",
   "execution_count": 2,
   "id": "ca1bcfcc",
   "metadata": {
    "lines_to_next_cell": 2
   },
   "outputs": [],
   "source": [
    "from sklearn.preprocessing import StandardScaler\n",
    "import numpy as np\n",
    "import os\n",
    "import matplotlib.pyplot as plt"
   ]
  },
  {
   "cell_type": "markdown",
   "id": "fd88c6ca",
   "metadata": {
    "lines_to_next_cell": 2
   },
   "source": [
    "## get data"
   ]
  },
  {
   "cell_type": "code",
   "execution_count": 3,
   "id": "48486426",
   "metadata": {},
   "outputs": [],
   "source": [
    "class ArtificialData(object):\n",
    "    \"\"\"\n",
    "    人口データを作成するクラス\n",
    "    \"\"\"\n",
    "\n",
    "    def __init__(self, n_samples=100, noise_scale=.1):\n",
    "        self.n_samples = n_samples\n",
    "        self.noise_scale = noise_scale\n",
    "\n",
    "    def true_function(self, x):\n",
    "        \"\"\"\n",
    "        ノイズのない正しいデータを返す関数\n",
    "        :param x:\n",
    "        :return:\n",
    "        :rtype: np.ndarray\n",
    "        \"\"\"\n",
    "        raise NotImplementedError\n",
    "\n",
    "    def make_x(self):\n",
    "        return np.sort(np.random.uniform(-1.5, 1.5, size=self.n_samples)).astype(np.float32).reshape(-1, 1)\n",
    "\n",
    "    def make_noise(self, x):\n",
    "        return np.random.normal(loc=0, scale=self.noise_scale, size=x.shape)\n",
    "\n",
    "    def generate(self):\n",
    "        x = self.make_x()\n",
    "        y = self.true_function(x)\n",
    "        y += self.make_noise(y)\n",
    "        return x, y"
   ]
  },
  {
   "cell_type": "code",
   "execution_count": 4,
   "id": "3d7c2bcd",
   "metadata": {},
   "outputs": [],
   "source": [
    "def func2(x):\n",
    "    \"\"\"\n",
    "    人口データの正しい関数その2\n",
    "    :param np.ndarray x:\n",
    "    :return:\n",
    "    :rtype: np.ndarray\n",
    "    \"\"\"\n",
    "    return np.sin(5 * x) * np.abs(x)"
   ]
  },
  {
   "cell_type": "code",
   "execution_count": 5,
   "id": "d487a0d6",
   "metadata": {},
   "outputs": [],
   "source": [
    "class Art2(ArtificialData):\n",
    "    def true_function(self, x):\n",
    "        return func2(x)\n",
    "\n",
    "    def make_x(self):\n",
    "        x1 = np.random.uniform(-1.5, -.5, size=int(self.n_samples / 2))\n",
    "        x2 = np.random.uniform(.5, 1.5, size=self.n_samples - x1.shape[0])\n",
    "        x = np.vstack((x1, x2)).reshape(-1, 1)\n",
    "        return np.sort(x)"
   ]
  },
  {
   "cell_type": "code",
   "execution_count": 6,
   "id": "284163bb",
   "metadata": {},
   "outputs": [],
   "source": [
    "def make_data(size, seed=1):\n",
    "    \"\"\"\n",
    "    人工データの作成\n",
    "    \n",
    "    :param int size: \n",
    "    :param str function_type:\n",
    "    :param int seed: \n",
    "    :return: データと正しい関数の集合\n",
    "    :rtype: tuple[np.array, np.array, function]\n",
    "    \"\"\"\n",
    "    np.random.seed(seed)\n",
    "    x, y = Art2(size).generate()\n",
    "    return x, y"
   ]
  },
  {
   "cell_type": "code",
   "execution_count": 7,
   "id": "ee358c8c",
   "metadata": {},
   "outputs": [],
   "source": [
    "x_test = None\n",
    "x_train, y_train = make_data(size=100)"
   ]
  },
  {
   "cell_type": "code",
   "execution_count": 8,
   "id": "cffa07bb",
   "metadata": {},
   "outputs": [
    {
     "data": {
      "text/plain": [
       "<matplotlib.collections.PathCollection at 0x7fbb5095c250>"
      ]
     },
     "execution_count": 8,
     "metadata": {},
     "output_type": "execute_result"
    },
    {
     "data": {
      "image/png": "[encoded data removed]",
      "text/plain": [
       "<Figure size 432x288 with 1 Axes>"
      ]
     },
     "metadata": {
      "needs_background": "light"
     },
     "output_type": "display_data"
    }
   ],
   "source": [
    "plt.scatter(x_train, y_train)"
   ]
  },
  {
   "cell_type": "markdown",
   "id": "d0e5e7f2",
   "metadata": {},
   "source": [
    "## Linear Deep Learning via Chainer"
   ]
  },
  {
   "cell_type": "code",
   "execution_count": 9,
   "id": "8bdb4371",
   "metadata": {},
   "outputs": [
    {
     "name": "stderr",
     "output_type": "stream",
     "text": [
      "2022-06-18 01:57:59.119063: W tensorflow/stream_executor/platform/default/dso_loader.cc:64] Could not load dynamic library 'libcudart.so.11.0'; dlerror: libcudart.so.11.0: cannot open shared object file: No such file or directory\n",
      "2022-06-18 01:57:59.119095: I tensorflow/stream_executor/cuda/cudart_stub.cc:29] Ignore above cudart dlerror if you do not have a GPU set up on your machine.\n"
     ]
    }
   ],
   "source": [
    "from tensorflow import keras\n",
    "from tensorflow.keras.layers import Dense, Activation, Dropout, GaussianDropout\n",
    "from tensorflow.keras.initializers import RandomNormal"
   ]
  },
  {
   "cell_type": "code",
   "execution_count": 10,
   "id": "311ab50a",
   "metadata": {
    "lines_to_next_cell": 2
   },
   "outputs": [],
   "source": [
    "def build_model(input_dim, hidden_dim, p, activate=\"relu\", mask=\"Dropout\", apply_input=False, apply_hidden=True):\n",
    "    inputs = keras.Input(shape=input_dim)\n",
    "    inputs = eval(mask)(p)(inputs, training=apply_input)\n",
    "    x = Dense(hidden_dim, activation=\"relu\")(inputs)\n",
    "    x = eval(mask)(p)(x, training=apply_hidden)\n",
    "    x = keras.layers.Dense(hidden_dim, activation=\"relu\")(x)\n",
    "    x = eval(mask)(p)(x, training=apply_hidden)\n",
    "    x = Dense(hidden_dim, activation=\"relu\")(x)\n",
    "    outputs = Dense(1)(x)\n",
    "\n",
    "    model = keras.Model(inputs, outputs)\n",
    "\n",
    "    model.compile(optimizer=\"adam\", loss=\"mean_squared_error\", metrics=[\"mean_squared_error\"])\n",
    "    return model"
   ]
  },
  {
   "cell_type": "markdown",
   "id": "8e7207f3",
   "metadata": {
    "lines_to_next_cell": 2
   },
   "source": [
    "## Bayes Part"
   ]
  },
  {
   "cell_type": "code",
   "execution_count": 11,
   "id": "33e17c1f",
   "metadata": {},
   "outputs": [],
   "source": [
    "class Transformer(object):\n",
    "    \"\"\"\n",
    "    変数変換の実行クラス\n",
    "    初めて変数が与えられたとき, 変換と同時にスケーリングのパラメータを学習し保存します。\n",
    "    二回目以降は、一度目で学習したパラメータを用いて変換を行います。\n",
    "    \"\"\"\n",
    "\n",
    "    def __init__(self, scaling=False):\n",
    "        \"\"\"\n",
    "        コンストラクタ\n",
    "        :param bool transform_log: 目的変数をログ変換するかのbool. \n",
    "        :param bool scaling: \n",
    "        \"\"\"\n",
    "        self._is_fitted = False\n",
    "        self.scaling = scaling\n",
    "        if scaling:\n",
    "            self.scaler = StandardScaler()\n",
    "\n",
    "    def _scaling(self, x):\n",
    "        \"\"\"\n",
    "\n",
    "        :param np.ndarray x: 変換する変数配列\n",
    "        :return: \n",
    "        :rtype: np.ndarray\n",
    "        \"\"\"\n",
    "        shape = x.shape\n",
    "        if len(shape) == 1:\n",
    "            x = x.reshape(-1, 1)\n",
    "\n",
    "        if self._is_fitted:\n",
    "            x = self.scaler.transform(x)\n",
    "        else:\n",
    "            x = self.scaler.fit_transform(x)\n",
    "            self._is_fitted = True\n",
    "        x = x.reshape(shape)\n",
    "        return x\n",
    "\n",
    "    def transform(self, x):\n",
    "        \"\"\"\n",
    "        目的変数のリストを受け取って変換器を作成し, 変換後の値を返す\n",
    "        scaling変換 [-1,+1]\n",
    "\n",
    "        :param np.ndarray x:\n",
    "        :rtype: np.ndarray\n",
    "        \"\"\"\n",
    "        x_trains = x[:]\n",
    "        if self.scaling:\n",
    "            x_trains = self._scaling(x)\n",
    "\n",
    "        return x_trains\n",
    "\n",
    "    def inverse_transform(self, x):\n",
    "        \"\"\"\n",
    "        変換された値を元の値に逆変換\n",
    "        :param x: np.ndarray\n",
    "        :return: np.ndarray\n",
    "        \"\"\"\n",
    "        x_inv = x[:]\n",
    "        if self.scaling:\n",
    "            x_inv = self.scaler.inverse_transform(x)\n",
    "\n",
    "        return x_inv"
   ]
  },
  {
   "cell_type": "code",
   "execution_count": 12,
   "id": "b3b0f41a",
   "metadata": {},
   "outputs": [],
   "source": [
    "def save_logloss(loss, name, save=True):\n",
    "    \"\"\"\n",
    "    loss の epoch による変化を plot して保存.\n",
    "    :param list loss: loss が格納されたリスト\n",
    "    :param str name: ファイル名\n",
    "    :param bool save: 保存するかどうかのフラグ. True のとき name で保存する.\n",
    "    :return:\n",
    "    \"\"\"\n",
    "    loss = np.array(loss)\n",
    "    fig = plt.figure(figsize=(10, 6))\n",
    "    ax1 = fig.add_subplot(111)\n",
    "    ax1.plot(loss[:, 1], color=\"C0\")\n",
    "    ax1.set_yscale(\"log\")\n",
    "    if save:\n",
    "        fig.savefig(\"{name}.png\".format(**locals()), dpi=150)\n",
    "    return"
   ]
  },
  {
   "cell_type": "code",
   "execution_count": 13,
   "id": "cf6b91aa",
   "metadata": {},
   "outputs": [],
   "source": [
    "def preprocess(X, y=None):\n",
    "    \"\"\"\n",
    "    入力変数の変換\n",
    "    :param np.ndarray X:\n",
    "    :param np.ndarray y:\n",
    "    :return: 変換後の変数のタプル\n",
    "    :rtype: tuple of (numpy.ndarray, numpy.ndarray)\n",
    "    \"\"\"\n",
    "    x_transformed = x_transformer.transform(X)\n",
    "    if y is None:\n",
    "        return x_transformed\n",
    "\n",
    "    y_transformed = y_transformer.transform(y)\n",
    "    return x_transformed, y_transformed\n",
    "\n",
    "def inverse_y_transform(y):\n",
    "    \"\"\"\n",
    "    予測値の逆変換\n",
    "    :param y: \n",
    "    :return: \n",
    "    \"\"\"\n",
    "    return y_transformer.inverse_transform(y)\n",
    "\n",
    "def preprocess_array_format(x):\n",
    "    \"\"\"\n",
    "     array の shape, 及び type をチェックして chainer に投げられるようにする.\n",
    "\n",
    "    1. shapeの修正:\n",
    "         (n_samples, ) -> (n_samples, 1)\n",
    "    2. dtype の修正:\n",
    "        int -> np.int32\n",
    "        float -> np.float32\n",
    "\n",
    "    :param np.ndarray x:\n",
    "    :return:\n",
    "    :rtype: np.ndarray\n",
    "    \"\"\"\n",
    "    if len(x.shape) == 1:\n",
    "        x = x.reshape(-1, 1)\n",
    "\n",
    "    if np.issubdtype(x.dtype, np.integer):\n",
    "        x = x.astype(np.int32)\n",
    "    elif np.issubdtype(x.dtype, np.float):\n",
    "        x = x.astype(np.float32)\n",
    "    else:\n",
    "        x = x.astype(np.float32)\n",
    "    return x"
   ]
  },
  {
   "cell_type": "code",
   "execution_count": 14,
   "id": "fb2ea3ab",
   "metadata": {},
   "outputs": [],
   "source": [
    "def plot_posterior(x_test, x_train=None, y_train=None, n_samples=100):\n",
    "    xx = np.linspace(-2.5, 2.5, 200).reshape(-1, 1)\n",
    "\n",
    "    x_train, y_train = x_transformer.inverse_transform(x_train), inverse_y_transform(y_train)\n",
    "    predict_values = posterior(xx, n=n_samples)\n",
    "\n",
    "    predict_mean = predict_values.mean(axis=0)\n",
    "    predict_var = predict_values.var(axis=0)\n",
    "\n",
    "    fig = plt.figure(figsize=(6, 6))\n",
    "    ax1 = fig.add_subplot(111)\n",
    "    ax1.plot(x_train[:, 0], y_train[:, 0], \"o\", markersize=6., color=\"C0\", label=\"Training Data Points\",\n",
    "             fillstyle=\"none\")\n",
    "\n",
    "    for i in range(100):\n",
    "        if i == 0:\n",
    "            ax1.plot(xx[:, 0], predict_values[i], color=\"C1\", alpha=.1, label=\"Posterior Samples\", linewidth=.5)\n",
    "        else:\n",
    "            ax1.plot(xx[:, 0], predict_values[i], color=\"C1\", alpha=.1, linewidth=.5)\n",
    "\n",
    "    ax1.plot(xx[:, 0], predict_mean, \"--\", color=\"C1\", label=\"Posterior Mean\")\n",
    "    ax1.fill_between(xx[:, 0], predict_mean + predict_var, predict_mean - predict_var, color=\"C1\",\n",
    "                     label=\"1 $\\sigma$\", alpha=.5)\n",
    "\n",
    "    ax1.set_ylim(-3.2, 3.2)\n",
    "    ax1.set_xlim(min(xx), max(xx))\n",
    "    ax1.legend(loc=4)\n",
    "    return fig, ax1\n",
    "\n",
    "def posterior(x, n=3):\n",
    "    \"\"\"\n",
    "    :param np.ndarray x:\n",
    "    :param int n: \n",
    "    :return:\n",
    "    :rtype: np.ndarray\n",
    "    \"\"\"\n",
    "    x = preprocess_array_format(x)\n",
    "    x = preprocess(x)\n",
    "    pred = [model(x).numpy().reshape(-1) for _ in range(n)]\n",
    "    pred = inverse_y_transform(pred)\n",
    "    pred = np.array(pred)\n",
    "    return pred"
   ]
  },
  {
   "cell_type": "code",
   "execution_count": 15,
   "id": "366ca168",
   "metadata": {},
   "outputs": [],
   "source": [
    "apply_input = False\n",
    "n_epoch = 1000\n",
    "batch_size = 50\n",
    "freq_print_loss=10\n",
    "freq_plot=50\n",
    "n_samples=100\n",
    "data_name='art2'"
   ]
  },
  {
   "cell_type": "code",
   "execution_count": 16,
   "id": "035dfbae",
   "metadata": {},
   "outputs": [
    {
     "name": "stderr",
     "output_type": "stream",
     "text": [
      "2022-06-18 01:58:06.935571: W tensorflow/stream_executor/platform/default/dso_loader.cc:64] Could not load dynamic library 'libcuda.so.1'; dlerror: libcuda.so.1: cannot open shared object file: No such file or directory\n",
      "2022-06-18 01:58:06.935607: W tensorflow/stream_executor/cuda/cuda_driver.cc:269] failed call to cuInit: UNKNOWN ERROR (303)\n",
      "2022-06-18 01:58:06.935626: I tensorflow/stream_executor/cuda/cuda_diagnostics.cc:156] kernel driver does not appear to be running on this host (eritsi-cicdstandard-dlgr1gnqxiz): /proc/driver/nvidia/version does not exist\n",
      "2022-06-18 01:58:06.935794: I tensorflow/core/platform/cpu_feature_guard.cc:193] This TensorFlow binary is optimized with oneAPI Deep Neural Network Library (oneDNN) to use the following CPU instructions in performance-critical operations:  AVX2 FMA\n",
      "To enable them in other operations, rebuild TensorFlow with the appropriate compiler flags.\n"
     ]
    }
   ],
   "source": [
    "model = build_model(x_train.shape[1], 512, 0.5, apply_input=apply_input)"
   ]
  },
  {
   "cell_type": "code",
   "execution_count": 17,
   "id": "d9bb2063",
   "metadata": {},
   "outputs": [],
   "source": [
    "output_dir = \"data/{data_name}/\".format(**locals())\n",
    "# 画像の出力先作成\n",
    "if os.path.exists(output_dir) is False:\n",
    "    os.makedirs(output_dir)"
   ]
  },
  {
   "cell_type": "code",
   "execution_count": 18,
   "id": "789e9974",
   "metadata": {
    "lines_to_next_cell": 2
   },
   "outputs": [],
   "source": [
    "x_transformer = Transformer(scaling=True)\n",
    "y_transformer = Transformer(scaling=True)\n",
    "\n",
    "X, y = preprocess(x_train, y_train)\n",
    "\n",
    "N = X.shape[0]\n",
    "\n",
    "model.compile(optimizer='adam', \n",
    "              loss='mean_squared_error', \n",
    "              metrics=['mean_squared_error'])\n",
    "\n",
    "from sklearn.metrics import mean_squared_error"
   ]
  },
  {
   "cell_type": "code",
   "execution_count": 19,
   "id": "da3aa30f",
   "metadata": {},
   "outputs": [
    {
     "name": "stdout",
     "output_type": "stream",
     "text": [
      "epoch: 0\tloss:1.0012104456929831\n"
     ]
    },
    {
     "name": "stderr",
     "output_type": "stream",
     "text": [
      "/tmp/ipykernel_3993/1878039146.py:43: DeprecationWarning: `np.float` is a deprecated alias for the builtin `float`. To silence this warning, use `float` by itself. Doing this will not modify any behavior and is safe. If you specifically wanted the numpy scalar type, use `np.float64` here.\n",
      "Deprecated in NumPy 1.20; for more details and guidance: https://numpy.org/devdocs/release/1.20.0-notes.html#deprecations\n",
      "  elif np.issubdtype(x.dtype, np.float):\n"
     ]
    },
    {
     "name": "stdout",
     "output_type": "stream",
     "text": [
      "epoch: 10\tloss:1.0305611798864447\n",
      "epoch: 20\tloss:0.9457626032113288\n",
      "epoch: 30\tloss:0.9749589775851433\n",
      "epoch: 40\tloss:0.8770793418422876\n",
      "epoch: 50\tloss:0.6697539247537877\n"
     ]
    },
    {
     "name": "stderr",
     "output_type": "stream",
     "text": [
      "/tmp/ipykernel_3993/1878039146.py:43: DeprecationWarning: `np.float` is a deprecated alias for the builtin `float`. To silence this warning, use `float` by itself. Doing this will not modify any behavior and is safe. If you specifically wanted the numpy scalar type, use `np.float64` here.\n",
      "Deprecated in NumPy 1.20; for more details and guidance: https://numpy.org/devdocs/release/1.20.0-notes.html#deprecations\n",
      "  elif np.issubdtype(x.dtype, np.float):\n"
     ]
    },
    {
     "name": "stdout",
     "output_type": "stream",
     "text": [
      "epoch: 60\tloss:0.6149769953121972\n",
      "epoch: 70\tloss:0.5271446768034925\n",
      "epoch: 80\tloss:0.3057694310134562\n",
      "epoch: 90\tloss:0.20358903045631319\n",
      "epoch: 100\tloss:0.17301572610984817\n"
     ]
    },
    {
     "name": "stderr",
     "output_type": "stream",
     "text": [
      "/tmp/ipykernel_3993/1878039146.py:43: DeprecationWarning: `np.float` is a deprecated alias for the builtin `float`. To silence this warning, use `float` by itself. Doing this will not modify any behavior and is safe. If you specifically wanted the numpy scalar type, use `np.float64` here.\n",
      "Deprecated in NumPy 1.20; for more details and guidance: https://numpy.org/devdocs/release/1.20.0-notes.html#deprecations\n",
      "  elif np.issubdtype(x.dtype, np.float):\n"
     ]
    },
    {
     "name": "stdout",
     "output_type": "stream",
     "text": [
      "epoch: 110\tloss:0.12603978714695147\n",
      "epoch: 120\tloss:0.09249280373178612\n",
      "epoch: 130\tloss:0.1183998479262896\n",
      "epoch: 140\tloss:0.07510497895469938\n",
      "epoch: 150\tloss:0.07348356881601896\n"
     ]
    },
    {
     "name": "stderr",
     "output_type": "stream",
     "text": [
      "/tmp/ipykernel_3993/1878039146.py:43: DeprecationWarning: `np.float` is a deprecated alias for the builtin `float`. To silence this warning, use `float` by itself. Doing this will not modify any behavior and is safe. If you specifically wanted the numpy scalar type, use `np.float64` here.\n",
      "Deprecated in NumPy 1.20; for more details and guidance: https://numpy.org/devdocs/release/1.20.0-notes.html#deprecations\n",
      "  elif np.issubdtype(x.dtype, np.float):\n"
     ]
    },
    {
     "name": "stdout",
     "output_type": "stream",
     "text": [
      "epoch: 160\tloss:0.07739661665420884\n",
      "epoch: 170\tloss:0.08347225874120898\n",
      "epoch: 180\tloss:0.05701916738179505\n",
      "epoch: 190\tloss:0.06775106526289809\n",
      "epoch: 200\tloss:0.06417419975707517\n"
     ]
    },
    {
     "name": "stderr",
     "output_type": "stream",
     "text": [
      "/tmp/ipykernel_3993/1878039146.py:43: DeprecationWarning: `np.float` is a deprecated alias for the builtin `float`. To silence this warning, use `float` by itself. Doing this will not modify any behavior and is safe. If you specifically wanted the numpy scalar type, use `np.float64` here.\n",
      "Deprecated in NumPy 1.20; for more details and guidance: https://numpy.org/devdocs/release/1.20.0-notes.html#deprecations\n",
      "  elif np.issubdtype(x.dtype, np.float):\n"
     ]
    },
    {
     "name": "stdout",
     "output_type": "stream",
     "text": [
      "epoch: 210\tloss:0.05766487214020022\n",
      "epoch: 220\tloss:0.058419255281143785\n",
      "epoch: 230\tloss:0.07036142059650186\n",
      "epoch: 240\tloss:0.07365547320565545\n",
      "epoch: 250\tloss:0.07000238860200464\n"
     ]
    },
    {
     "name": "stderr",
     "output_type": "stream",
     "text": [
      "/tmp/ipykernel_3993/1878039146.py:43: DeprecationWarning: `np.float` is a deprecated alias for the builtin `float`. To silence this warning, use `float` by itself. Doing this will not modify any behavior and is safe. If you specifically wanted the numpy scalar type, use `np.float64` here.\n",
      "Deprecated in NumPy 1.20; for more details and guidance: https://numpy.org/devdocs/release/1.20.0-notes.html#deprecations\n",
      "  elif np.issubdtype(x.dtype, np.float):\n"
     ]
    },
    {
     "name": "stdout",
     "output_type": "stream",
     "text": [
      "epoch: 260\tloss:0.06384651134051966\n",
      "epoch: 270\tloss:0.06741298419701901\n",
      "epoch: 280\tloss:0.06045374271720792\n",
      "epoch: 290\tloss:0.07432347717471713\n",
      "epoch: 300\tloss:0.06363157942694554\n"
     ]
    },
    {
     "name": "stderr",
     "output_type": "stream",
     "text": [
      "/tmp/ipykernel_3993/1878039146.py:43: DeprecationWarning: `np.float` is a deprecated alias for the builtin `float`. To silence this warning, use `float` by itself. Doing this will not modify any behavior and is safe. If you specifically wanted the numpy scalar type, use `np.float64` here.\n",
      "Deprecated in NumPy 1.20; for more details and guidance: https://numpy.org/devdocs/release/1.20.0-notes.html#deprecations\n",
      "  elif np.issubdtype(x.dtype, np.float):\n"
     ]
    },
    {
     "name": "stdout",
     "output_type": "stream",
     "text": [
      "epoch: 310\tloss:0.05909006140478312\n",
      "epoch: 320\tloss:0.07195950168066448\n",
      "epoch: 330\tloss:0.054487082007189436\n",
      "epoch: 340\tloss:0.05047414292470787\n",
      "epoch: 350\tloss:0.05405355669173878\n"
     ]
    },
    {
     "name": "stderr",
     "output_type": "stream",
     "text": [
      "/tmp/ipykernel_3993/1878039146.py:43: DeprecationWarning: `np.float` is a deprecated alias for the builtin `float`. To silence this warning, use `float` by itself. Doing this will not modify any behavior and is safe. If you specifically wanted the numpy scalar type, use `np.float64` here.\n",
      "Deprecated in NumPy 1.20; for more details and guidance: https://numpy.org/devdocs/release/1.20.0-notes.html#deprecations\n",
      "  elif np.issubdtype(x.dtype, np.float):\n"
     ]
    },
    {
     "name": "stdout",
     "output_type": "stream",
     "text": [
      "epoch: 360\tloss:0.048658608187262226\n",
      "epoch: 370\tloss:0.052841713086560466\n",
      "epoch: 380\tloss:0.04747514488996659\n",
      "epoch: 390\tloss:0.0428138038989844\n",
      "epoch: 400\tloss:0.050014049732963396\n"
     ]
    },
    {
     "name": "stderr",
     "output_type": "stream",
     "text": [
      "/tmp/ipykernel_3993/1878039146.py:43: DeprecationWarning: `np.float` is a deprecated alias for the builtin `float`. To silence this warning, use `float` by itself. Doing this will not modify any behavior and is safe. If you specifically wanted the numpy scalar type, use `np.float64` here.\n",
      "Deprecated in NumPy 1.20; for more details and guidance: https://numpy.org/devdocs/release/1.20.0-notes.html#deprecations\n",
      "  elif np.issubdtype(x.dtype, np.float):\n"
     ]
    },
    {
     "name": "stdout",
     "output_type": "stream",
     "text": [
      "epoch: 410\tloss:0.05973457981060612\n",
      "epoch: 420\tloss:0.04596005166735507\n",
      "epoch: 430\tloss:0.05037756511112662\n",
      "epoch: 440\tloss:0.05378726533359082\n",
      "epoch: 450\tloss:0.03939375176141466\n"
     ]
    },
    {
     "name": "stderr",
     "output_type": "stream",
     "text": [
      "/tmp/ipykernel_3993/1878039146.py:43: DeprecationWarning: `np.float` is a deprecated alias for the builtin `float`. To silence this warning, use `float` by itself. Doing this will not modify any behavior and is safe. If you specifically wanted the numpy scalar type, use `np.float64` here.\n",
      "Deprecated in NumPy 1.20; for more details and guidance: https://numpy.org/devdocs/release/1.20.0-notes.html#deprecations\n",
      "  elif np.issubdtype(x.dtype, np.float):\n"
     ]
    },
    {
     "name": "stdout",
     "output_type": "stream",
     "text": [
      "epoch: 460\tloss:0.04506862176289075\n",
      "epoch: 470\tloss:0.04683788282617628\n",
      "epoch: 480\tloss:0.05225133345672527\n",
      "epoch: 490\tloss:0.05876011951061702\n",
      "epoch: 500\tloss:0.042122778493397135\n"
     ]
    },
    {
     "name": "stderr",
     "output_type": "stream",
     "text": [
      "/tmp/ipykernel_3993/1878039146.py:43: DeprecationWarning: `np.float` is a deprecated alias for the builtin `float`. To silence this warning, use `float` by itself. Doing this will not modify any behavior and is safe. If you specifically wanted the numpy scalar type, use `np.float64` here.\n",
      "Deprecated in NumPy 1.20; for more details and guidance: https://numpy.org/devdocs/release/1.20.0-notes.html#deprecations\n",
      "  elif np.issubdtype(x.dtype, np.float):\n"
     ]
    },
    {
     "name": "stdout",
     "output_type": "stream",
     "text": [
      "epoch: 510\tloss:0.05894955804817271\n",
      "epoch: 520\tloss:0.0480005782915611\n",
      "epoch: 530\tloss:0.05455806366639213\n",
      "epoch: 540\tloss:0.04191005645892717\n",
      "epoch: 550\tloss:0.04652473514205924\n"
     ]
    },
    {
     "name": "stderr",
     "output_type": "stream",
     "text": [
      "/tmp/ipykernel_3993/1878039146.py:43: DeprecationWarning: `np.float` is a deprecated alias for the builtin `float`. To silence this warning, use `float` by itself. Doing this will not modify any behavior and is safe. If you specifically wanted the numpy scalar type, use `np.float64` here.\n",
      "Deprecated in NumPy 1.20; for more details and guidance: https://numpy.org/devdocs/release/1.20.0-notes.html#deprecations\n",
      "  elif np.issubdtype(x.dtype, np.float):\n"
     ]
    },
    {
     "name": "stdout",
     "output_type": "stream",
     "text": [
      "epoch: 560\tloss:0.04776761343690453\n",
      "epoch: 570\tloss:0.04160564272020997\n",
      "epoch: 580\tloss:0.04579520356604217\n",
      "epoch: 590\tloss:0.0458903480318982\n",
      "epoch: 600\tloss:0.05837057237921969\n"
     ]
    },
    {
     "name": "stderr",
     "output_type": "stream",
     "text": [
      "/tmp/ipykernel_3993/1878039146.py:43: DeprecationWarning: `np.float` is a deprecated alias for the builtin `float`. To silence this warning, use `float` by itself. Doing this will not modify any behavior and is safe. If you specifically wanted the numpy scalar type, use `np.float64` here.\n",
      "Deprecated in NumPy 1.20; for more details and guidance: https://numpy.org/devdocs/release/1.20.0-notes.html#deprecations\n",
      "  elif np.issubdtype(x.dtype, np.float):\n"
     ]
    },
    {
     "name": "stdout",
     "output_type": "stream",
     "text": [
      "epoch: 610\tloss:0.05101124899115632\n",
      "epoch: 620\tloss:0.058966812175951525\n",
      "epoch: 630\tloss:0.052306610406796246\n",
      "epoch: 640\tloss:0.03774219178665119\n",
      "epoch: 650\tloss:0.05064235014884795\n"
     ]
    },
    {
     "name": "stderr",
     "output_type": "stream",
     "text": [
      "/tmp/ipykernel_3993/1878039146.py:43: DeprecationWarning: `np.float` is a deprecated alias for the builtin `float`. To silence this warning, use `float` by itself. Doing this will not modify any behavior and is safe. If you specifically wanted the numpy scalar type, use `np.float64` here.\n",
      "Deprecated in NumPy 1.20; for more details and guidance: https://numpy.org/devdocs/release/1.20.0-notes.html#deprecations\n",
      "  elif np.issubdtype(x.dtype, np.float):\n"
     ]
    },
    {
     "name": "stdout",
     "output_type": "stream",
     "text": [
      "epoch: 660\tloss:0.04048068043894062\n",
      "epoch: 670\tloss:0.038849122529463244\n",
      "epoch: 680\tloss:0.031920046261222426\n",
      "epoch: 690\tloss:0.04294929081309942\n",
      "epoch: 700\tloss:0.047849473600470906\n"
     ]
    },
    {
     "name": "stderr",
     "output_type": "stream",
     "text": [
      "/tmp/ipykernel_3993/1878039146.py:43: DeprecationWarning: `np.float` is a deprecated alias for the builtin `float`. To silence this warning, use `float` by itself. Doing this will not modify any behavior and is safe. If you specifically wanted the numpy scalar type, use `np.float64` here.\n",
      "Deprecated in NumPy 1.20; for more details and guidance: https://numpy.org/devdocs/release/1.20.0-notes.html#deprecations\n",
      "  elif np.issubdtype(x.dtype, np.float):\n"
     ]
    },
    {
     "name": "stdout",
     "output_type": "stream",
     "text": [
      "epoch: 710\tloss:0.034802284054402374\n",
      "epoch: 720\tloss:0.04141009653679331\n",
      "epoch: 730\tloss:0.03559945150793321\n",
      "epoch: 740\tloss:0.03740985802175454\n",
      "epoch: 750\tloss:0.0445277443359325\n"
     ]
    },
    {
     "name": "stderr",
     "output_type": "stream",
     "text": [
      "/tmp/ipykernel_3993/1878039146.py:43: DeprecationWarning: `np.float` is a deprecated alias for the builtin `float`. To silence this warning, use `float` by itself. Doing this will not modify any behavior and is safe. If you specifically wanted the numpy scalar type, use `np.float64` here.\n",
      "Deprecated in NumPy 1.20; for more details and guidance: https://numpy.org/devdocs/release/1.20.0-notes.html#deprecations\n",
      "  elif np.issubdtype(x.dtype, np.float):\n"
     ]
    },
    {
     "name": "stdout",
     "output_type": "stream",
     "text": [
      "epoch: 760\tloss:0.03655324044176373\n",
      "epoch: 770\tloss:0.05783441145837189\n",
      "epoch: 780\tloss:0.042254091946295515\n",
      "epoch: 790\tloss:0.0370937636066604\n",
      "epoch: 800\tloss:0.031653782843917\n"
     ]
    },
    {
     "name": "stderr",
     "output_type": "stream",
     "text": [
      "/tmp/ipykernel_3993/1878039146.py:43: DeprecationWarning: `np.float` is a deprecated alias for the builtin `float`. To silence this warning, use `float` by itself. Doing this will not modify any behavior and is safe. If you specifically wanted the numpy scalar type, use `np.float64` here.\n",
      "Deprecated in NumPy 1.20; for more details and guidance: https://numpy.org/devdocs/release/1.20.0-notes.html#deprecations\n",
      "  elif np.issubdtype(x.dtype, np.float):\n"
     ]
    },
    {
     "name": "stdout",
     "output_type": "stream",
     "text": [
      "epoch: 810\tloss:0.04090068066577778\n",
      "epoch: 820\tloss:0.042971200085447595\n",
      "epoch: 830\tloss:0.04251534498969645\n",
      "epoch: 840\tloss:0.04361661341848884\n",
      "epoch: 850\tloss:0.03880120433954739\n"
     ]
    },
    {
     "name": "stderr",
     "output_type": "stream",
     "text": [
      "/tmp/ipykernel_3993/1878039146.py:43: DeprecationWarning: `np.float` is a deprecated alias for the builtin `float`. To silence this warning, use `float` by itself. Doing this will not modify any behavior and is safe. If you specifically wanted the numpy scalar type, use `np.float64` here.\n",
      "Deprecated in NumPy 1.20; for more details and guidance: https://numpy.org/devdocs/release/1.20.0-notes.html#deprecations\n",
      "  elif np.issubdtype(x.dtype, np.float):\n"
     ]
    },
    {
     "name": "stdout",
     "output_type": "stream",
     "text": [
      "epoch: 860\tloss:0.04221137242961962\n",
      "epoch: 870\tloss:0.041939933778305905\n",
      "epoch: 880\tloss:0.0403270291461145\n",
      "epoch: 890\tloss:0.034660818758747235\n",
      "epoch: 900\tloss:0.04572249302070076\n"
     ]
    },
    {
     "name": "stderr",
     "output_type": "stream",
     "text": [
      "/tmp/ipykernel_3993/1878039146.py:43: DeprecationWarning: `np.float` is a deprecated alias for the builtin `float`. To silence this warning, use `float` by itself. Doing this will not modify any behavior and is safe. If you specifically wanted the numpy scalar type, use `np.float64` here.\n",
      "Deprecated in NumPy 1.20; for more details and guidance: https://numpy.org/devdocs/release/1.20.0-notes.html#deprecations\n",
      "  elif np.issubdtype(x.dtype, np.float):\n"
     ]
    },
    {
     "name": "stdout",
     "output_type": "stream",
     "text": [
      "epoch: 910\tloss:0.04035936582380634\n",
      "epoch: 920\tloss:0.03747355426234117\n",
      "epoch: 930\tloss:0.04157998301378209\n",
      "epoch: 940\tloss:0.031061473702131418\n",
      "epoch: 950\tloss:0.03268607409405961\n"
     ]
    },
    {
     "name": "stderr",
     "output_type": "stream",
     "text": [
      "/tmp/ipykernel_3993/1878039146.py:43: DeprecationWarning: `np.float` is a deprecated alias for the builtin `float`. To silence this warning, use `float` by itself. Doing this will not modify any behavior and is safe. If you specifically wanted the numpy scalar type, use `np.float64` here.\n",
      "Deprecated in NumPy 1.20; for more details and guidance: https://numpy.org/devdocs/release/1.20.0-notes.html#deprecations\n",
      "  elif np.issubdtype(x.dtype, np.float):\n"
     ]
    },
    {
     "name": "stdout",
     "output_type": "stream",
     "text": [
      "epoch: 960\tloss:0.036919729143509564\n",
      "epoch: 970\tloss:0.04022054680654514\n",
      "epoch: 980\tloss:0.04242299453150128\n",
      "epoch: 990\tloss:0.04859366846471515\n",
      "epoch: 1000\tloss:0.04025335845711697\n"
     ]
    },
    {
     "name": "stderr",
     "output_type": "stream",
     "text": [
      "/tmp/ipykernel_3993/1878039146.py:43: DeprecationWarning: `np.float` is a deprecated alias for the builtin `float`. To silence this warning, use `float` by itself. Doing this will not modify any behavior and is safe. If you specifically wanted the numpy scalar type, use `np.float64` here.\n",
      "Deprecated in NumPy 1.20; for more details and guidance: https://numpy.org/devdocs/release/1.20.0-notes.html#deprecations\n",
      "  elif np.issubdtype(x.dtype, np.float):\n"
     ]
    },
    {
     "data": {
      "image/png": "[encoded data removed]",
      "text/plain": [
       "<Figure size 720x432 with 1 Axes>"
      ]
     },
     "metadata": {
      "needs_background": "light"
     },
     "output_type": "display_data"
    }
   ],
   "source": [
    "list_loss = []\n",
    "\n",
    "for e in range(n_epoch+1):\n",
    "    perm = np.random.permutation(N)\n",
    "    for i in range(0, N, batch_size):\n",
    "        idx = perm[i : i + batch_size]\n",
    "        _x = X[idx]\n",
    "        _y = y[idx]\n",
    "        model.train_on_batch(_x, _y)\n",
    "\n",
    "    y_pred = model(X)\n",
    "    l = mean_squared_error(y, y_pred)\n",
    "    \n",
    "    if e % freq_print_loss == 0:\n",
    "        print(\"epoch: {e}\\tloss:{l}\".format(**locals()))\n",
    "    \n",
    "    if e % freq_plot == 0:\n",
    "        fig, ax = plot_posterior(x_test, X, y, n_samples=n_samples)\n",
    "        ax.set_title(\"epoch:{0:04d}\".format(e))\n",
    "        fig.tight_layout()\n",
    "        file_path = os.path.join(output_dir, \"epoch={e:04d}.png\".format(**locals()))\n",
    "        fig.savefig(file_path, dpi=150)\n",
    "        plt.close(\"all\")\n",
    "    list_loss.append([e, l])\n",
    "\n",
    "save_logloss(list_loss, model.__str__())"
   ]
  },
  {
   "cell_type": "code",
   "execution_count": 20,
   "id": "2095ccd4",
   "metadata": {},
   "outputs": [],
   "source": [
    "from glob import glob\n",
    "import os\n",
    "from PIL import Image\n",
    "\n",
    "def make_anime(files, name='anime'):\n",
    "    images = list(map(lambda file : Image.open(file) , files))\n",
    "    images[0].save(name+'.gif', save_all=True, \\\n",
    "        append_images=images[1:], optimize=True, duration=10 , loop=0)\n",
    "\n",
    "l1_images = glob(os.path.join('./data/art2/',  \"*.png\"))\n",
    "make_anime(l1_images, 'anime-keras')"
   ]
  },
  {
   "cell_type": "markdown",
   "id": "25d5017b",
   "metadata": {},
   "source": [
    "keras version\n",
    "<img src='./anime-keras.gif' width=400>\n",
    "-\n",
    "chainer version"
   ]
  },
  {
   "cell_type": "markdown",
   "id": "1e18eaad",
   "metadata": {},
   "source": [
    "<img src='./anime.gif' width=400></img>"
   ]
  }
 ],
 "metadata": {
  "kernelspec": {
   "display_name": "Python 3 (ipykernel)",
   "language": "python",
   "name": "python3"
  },
  "language_info": {
   "codemirror_mode": {
    "name": "ipython",
    "version": 3
   },
   "file_extension": ".py",
   "mimetype": "text/x-python",
   "name": "python",
   "nbconvert_exporter": "python",
   "pygments_lexer": "ipython3",
   "version": "3.8.13"
  }
 },
 "nbformat": 4,
 "nbformat_minor": 5
}
